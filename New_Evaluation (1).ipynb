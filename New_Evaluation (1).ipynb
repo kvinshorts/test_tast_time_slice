{
 "cells": [
  {
   "cell_type": "code",
   "execution_count": null,
   "id": "vlwodkpLvwgT",
   "metadata": {
    "executionInfo": {
     "elapsed": 485,
     "status": "ok",
     "timestamp": 1628694389434,
     "user": {
      "displayName": "Anunay Arunav",
      "photoUrl": "",
      "userId": "01647617711140070032"
     },
     "user_tz": -330
    },
    "id": "vlwodkpLvwgT"
   },
   "outputs": [
    {
     "name": "stdout",
     "output_type": "stream",
     "text": [
      "0\n",
      "time: 526 µs (started: 2022-02-23 18:06:34 +00:00)\n"
     ]
    }
   ],
   "source": [
    "try:\n",
    "    %load_ext autotime\n",
    "except:\n",
    "    !pip install ipython-autotime\n",
    "    %load_ext autotime\n",
    "print(0)"
   ]
  },
  {
   "cell_type": "code",
   "execution_count": 14,
   "id": "47427eb4-887c-4833-8096-035bd8ddb78f",
   "metadata": {},
   "outputs": [
    {
     "name": "stdout",
     "output_type": "stream",
     "text": [
      "time: 584 µs (started: 2022-02-23 18:41:19 +00:00)\n"
     ]
    }
   ],
   "source": [
    "CUR_PATH='/home/karanverma/test_task_time_slice/'\n",
    "import sys\n",
    "sys.path.insert(1, CUR_PATH)\n",
    "sys.path.insert(1, CUR_PATH+'/TimeSliceEvaluator')\n",
    "CUR_PATH='/home/karanverma/test_task_time_slice/'"
   ]
  },
  {
   "cell_type": "code",
   "execution_count": 15,
   "id": "063acf50-87b8-4b20-bccb-f41c41385b5a",
   "metadata": {
    "colab": {
     "base_uri": "https://localhost:8080/"
    },
    "executionInfo": {
     "elapsed": 665,
     "status": "ok",
     "timestamp": 1628694419134,
     "user": {
      "displayName": "Anunay Arunav",
      "photoUrl": "",
      "userId": "01647617711140070032"
     },
     "user_tz": -330
    },
    "id": "063acf50-87b8-4b20-bccb-f41c41385b5a",
    "outputId": "7761f197-327e-48b9-f71c-b53b10664dc9"
   },
   "outputs": [
    {
     "name": "stdout",
     "output_type": "stream",
     "text": [
      "time: 7.7 s (started: 2022-02-23 18:41:21 +00:00)\n"
     ]
    }
   ],
   "source": [
    "import datetime\n",
    "import numpy as np\n",
    "from tqdm import tqdm\n",
    "import pickle\n",
    "import pandas as pd\n",
    "\n",
    "df = pd.read_csv(CUR_PATH + \"data_filtered.csv\")\n",
    "df = df[['deviceId',\"overallTimeSpent\",'eventTimestamp','hashId']]\n",
    "df = df.sort_values(by=['eventTimestamp'])\n",
    "df['eventTimestamp'] /= 1000\n",
    "newsContent = pickle.load(open(CUR_PATH+'/news_arr.pickle', 'rb'))\n",
    "\n",
    "def mapValues(values):\n",
    "    return {\"deviceId\" : values[0], \"hashId\" : values[3], \"overallTimeSpent\" : values[1], \"eventTimestamp\" : values[4]}\n",
    "\n",
    "stream = df.to_numpy()\n",
    "\n",
    "columns = ['hashId', 'timestamp']\n",
    "array = []\n",
    "for n in newsContent:\n",
    "    t = newsContent[n]['publish_time']\n",
    "    array.append([n, int(t)])\n",
    "\n",
    "newsDf = pd.DataFrame(data=array, columns=columns)"
   ]
  },
  {
   "cell_type": "code",
   "execution_count": null,
   "id": "ea83cc11-2943-4ffc-8a7c-eec27ab1355a",
   "metadata": {},
   "outputs": [],
   "source": []
  },
  {
   "cell_type": "code",
   "execution_count": 5,
   "id": "de77168b-3124-4e34-9bf8-3fc4ab84b111",
   "metadata": {},
   "outputs": [
    {
     "name": "stdout",
     "output_type": "stream",
     "text": [
      "time: 705 ms (started: 2022-02-23 18:07:05 +00:00)\n"
     ]
    }
   ],
   "source": [
    "import matplotlib.pyplot as plt\n",
    "import random"
   ]
  },
  {
   "cell_type": "code",
   "execution_count": 6,
   "id": "521679ac-b19e-4f4c-baff-85b8815b9eef",
   "metadata": {},
   "outputs": [
    {
     "data": {
      "text/plain": [
       "<module 'RankEvaluator' from '/home/karanverma/test_task_time_slice/RankEvaluator.py'>"
      ]
     },
     "execution_count": 6,
     "metadata": {},
     "output_type": "execute_result"
    },
    {
     "name": "stdout",
     "output_type": "stream",
     "text": [
      "time: 4.83 ms (started: 2022-02-23 18:07:25 +00:00)\n"
     ]
    }
   ],
   "source": [
    "import RankEvaluator\n",
    "from importlib import reload\n",
    "reload(RankEvaluator)"
   ]
  },
  {
   "cell_type": "code",
   "execution_count": 7,
   "id": "aa866aa7-ce4b-4c84-97c0-ebe0e4bdfa14",
   "metadata": {},
   "outputs": [
    {
     "name": "stdout",
     "output_type": "stream",
     "text": [
      "time: 378 µs (started: 2022-02-23 18:07:28 +00:00)\n"
     ]
    }
   ],
   "source": [
    "PolicyEvaluator = RankEvaluator.TimeSliceEvaluatorGenerator(df, newsContent, sliceSize=1, verbose=False)"
   ]
  },
  {
   "cell_type": "code",
   "execution_count": null,
   "id": "c5b4a927-7ad6-4f73-917a-b9ae7b6ef984",
   "metadata": {},
   "outputs": [],
   "source": []
  },
  {
   "cell_type": "code",
   "execution_count": null,
   "id": "d9b45aca-2b64-400c-901f-cb953c53d2ef",
   "metadata": {},
   "outputs": [],
   "source": []
  },
  {
   "cell_type": "markdown",
   "id": "32a2fd4d-235e-410f-950b-1ff1cf98c8d4",
   "metadata": {
    "tags": []
   },
   "source": [
    "## Time Slice Evaluator\n",
    "\n",
    "Below is the description of Recommender Evaluator mechanism, which can be used to evaluate a recommendation algorithm.\n",
    "\n",
    "\n",
    "#### Problem Statement (aka what are we trying to solve)\n",
    "\n",
    "We want to solve the recommendation challenge for users. That is, given some history of users reading pattern, we want to recommend new news shorts for the user on which user will spend maximum time. Formally, we have a history as a list of tuples (user, news, timespent)<sub>t</sub> ordered by timestamp t, from which we have to learn the interests of the users and recommend news accordingly.\n",
    "\n",
    "#### Evaluation\n",
    "\n",
    "\n",
    "The evaluation works as follows. The Recommender algorithm needs to implements two functions 1. <code>recommend</code> and 2. <code>feed</code>\n",
    "\n",
    "Recommend takes a list of pairs (each pair consisting of a user and news). It should return a list of scores for the pairs in the list pairs passed ( the score should have the property that if user A likes news N1 more than N2, then score(A,N1) should be higher than score(A,N2) ). \n",
    "\n",
    "Feed method then is given the a list of events <code>news, user, timespent</code> which contains the feedback for your recommendation. The data for this stream is generated using the file data_filtered.csv. The recommender algorithm implemented by you, will be run back and forth as recommend and feed. \n",
    "\n",
    "Follwing are the sample paramenters for recommend and feed methods.\n",
    "\n",
    "P.recommend(['7sgdbhkd-cfd6-460d-b785-ffd028a02c27','8uudbhkd-cfd6-460d-b785-ffd028a02c27','94hjbhkd-cfd6-460d-b785-ffd028a0bgf27'],['9na5zqtz-1','67na5zqtz-1','0gtfqtz-1'],NewsContent)\n",
    "where news content is a dict containing a map from newsId to it's meta data like text, category, publisher, etc.\n",
    "The return value would we a list of length threee for above inputs, which will the score for the pairs [(user_list[0],news_list[0]),(user_list[1],news_list[1]),(user_list[2],news_list[2])]\n",
    "\n",
    "P.feed([{'deviceId': '7sgdbhkd-cfd6-460d-b785-ffd028a02c27', 'hashId': '9na5zqtz-1', 'eventTimestamp': 1624134990.0, 'overallTimeSpent': 3.556},{'deviceId': '9cf6e7af-cfd6-460d-b785-ffd028a02c27', 'hashId': '564h45tz-1', 'eventTimestamp': 1624147990.0, 'overallTimeSpent': 6.556}])\n",
    "\n",
    "\n",
    "#### Scoring\n",
    "\n",
    "The scoring of the recomender system is done by comparing the order of the news of a particular user according to the scores by recomender vs the order of the news for the same user according to the known timespents. \n",
    "\n",
    "#### Benchmarks\n",
    "\n",
    "We have given a sample algorithm \"RandomRecommenderPolicy\", which generates random score for each user,news pair. Ideally, the expected score for a recommender that gives random results would be 50. However, Due to the finite size of the data set, the value we are getting for random recommender is 55. The score that our popularity based recommender is able to afford is around 50, so you should be targetting this score. \n",
    "\n",
    "#### Approach\n",
    "\n",
    "We would be reading and reviewing your code, so please document your approach very well. Half of the weightage for selection will given to the documentation and clarity of the approach. You are not allowed to make any changes in the acommpanied file or anything pre-written in this notebook. You will be given a clean section and you can show your work there."
   ]
  },
  {
   "cell_type": "code",
   "execution_count": null,
   "id": "fcbf67f5-be6c-4c10-af7f-ca9458437e20",
   "metadata": {},
   "outputs": [],
   "source": []
  },
  {
   "cell_type": "code",
   "execution_count": 18,
   "id": "00541852-8b2a-4dfe-988b-ba4c62e7928a",
   "metadata": {},
   "outputs": [
    {
     "name": "stdout",
     "output_type": "stream",
     "text": [
      "time: 3.38 ms (started: 2022-01-21 13:10:55 +00:00)\n"
     ]
    }
   ],
   "source": []
  },
  {
   "cell_type": "markdown",
   "id": "2e255d78-f3a9-43df-921e-4fa159663046",
   "metadata": {
    "id": "4fb3de96-79aa-4751-98dc-a47ec64a8327"
   },
   "source": [
    "## Default Policy\n",
    "\n",
    "<code>RandomRecommenderPolicy</code> is a default recommendation policy class given in RankEvaluator.py file, which just generates a random score for each user_list and news_list pair. We have shown here how it works and the score it achieves on our policy evaluator."
   ]
  },
  {
   "cell_type": "code",
   "execution_count": 8,
   "id": "d0a6774c-67db-4e18-89cf-cd7bec5c3aee",
   "metadata": {},
   "outputs": [
    {
     "name": "stdout",
     "output_type": "stream",
     "text": [
      "time: 372 µs (started: 2022-02-23 18:08:39 +00:00)\n"
     ]
    }
   ],
   "source": [
    "from RankEvaluator import *"
   ]
  },
  {
   "cell_type": "code",
   "execution_count": 11,
   "id": "2695cbf5-4437-4695-a0b1-3dddbbf47c66",
   "metadata": {
    "colab": {
     "base_uri": "https://localhost:8080/"
    },
    "executionInfo": {
     "elapsed": 4708,
     "status": "ok",
     "timestamp": 1628694433043,
     "user": {
      "displayName": "Anunay Arunav",
      "photoUrl": "",
      "userId": "01647617711140070032"
     },
     "user_tz": -330
    },
    "id": "2695cbf5-4437-4695-a0b1-3dddbbf47c66",
    "outputId": "39e6695f-08ba-4e97-b83e-b776d18a36a1",
    "tags": []
   },
   "outputs": [
    {
     "name": "stderr",
     "output_type": "stream",
     "text": [
      "100%|██████████| 48/48 [00:00<00:00, 52.18it/s]"
     ]
    },
    {
     "name": "stdout",
     "output_type": "stream",
     "text": [
      "{'score': 55.49954052319936, 'score_list': [52.57585874661267, 54.18936816810165, 55.106692348404295, 55.19234967584315, 56.4740711545418, 56.04354770755631, 55.41407556270722, 56.08484625212916, 57.37681894032903, 55.78281664651213, 55.82642108892245, 55.696229956640565, 55.90396430222043, 55.585336370741615, 57.485378490847964, 54.58210381727192, 55.128436625314734, 53.785115752353285, 52.903265460316916, 51.560156795531164, 51.69143542267914, 50.23429717384189, 52.63205666126222, 53.06369604976896, 53.746800073832986, 53.03874463200516, 55.36055880392329, 53.752957445033104, 55.79276505071512, 55.577346250099666, 56.91654640005843, 53.73879383996587, 57.02159061573071, 57.029607465424824, 56.31518238037467, 58.91775846588787, 55.128475557363274, 54.66257171451877, 56.39130225562741, 55.532568965567904, 54.479442194641436, 55.178728837454784, 52.216873498452024, 51.631861206114316, 68.2278053557017, 52.114492846047526, 53.14262652793534]}\n",
      "time: 1 s (started: 2022-02-23 18:21:17 +00:00)\n"
     ]
    },
    {
     "name": "stderr",
     "output_type": "stream",
     "text": [
      "\n"
     ]
    }
   ],
   "source": [
    "recPolicy = RandomRecommenderPolicy()\n",
    "score = PolicyEvaluator(recPolicy)\n",
    "print(score)"
   ]
  },
  {
   "cell_type": "markdown",
   "id": "874e512c-7cc9-4ba7-be58-0fc4999fa3be",
   "metadata": {},
   "source": [
    "#### Your Policy Training Goes Here"
   ]
  },
  {
   "cell_type": "code",
   "execution_count": null,
   "id": "685d5d38-c27d-438d-92ee-2cd4a771f82e",
   "metadata": {},
   "outputs": [],
   "source": []
  },
  {
   "cell_type": "code",
   "execution_count": null,
   "id": "1ecc4437-be65-4601-b13c-03eb608a6256",
   "metadata": {},
   "outputs": [],
   "source": []
  },
  {
   "cell_type": "code",
   "execution_count": null,
   "id": "5d8605e7-2ea5-4b7f-b26f-868062a87e67",
   "metadata": {},
   "outputs": [],
   "source": []
  }
 ],
 "metadata": {
  "colab": {
   "collapsed_sections": [],
   "name": "Evaluation.ipynb",
   "provenance": []
  },
  "kernelspec": {
   "display_name": "Python 3 (ipykernel)",
   "language": "python",
   "name": "python3"
  },
  "language_info": {
   "codemirror_mode": {
    "name": "ipython",
    "version": 3
   },
   "file_extension": ".py",
   "mimetype": "text/x-python",
   "name": "python",
   "nbconvert_exporter": "python",
   "pygments_lexer": "ipython3",
   "version": "3.8.12"
  }
 },
 "nbformat": 4,
 "nbformat_minor": 5
}
